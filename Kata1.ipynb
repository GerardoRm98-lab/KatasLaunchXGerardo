{
  "cells": [
    {
      "cell_type": "markdown",
      "metadata": {},
      "source": [
        "# Misión Número 1"
      ]
    },
    {
      "cell_type": "markdown",
      "metadata": {},
      "source": [
        "## Convertidor de unidades"
      ]
    },
    {
      "cell_type": "code",
      "execution_count": 1,
      "metadata": {},
      "outputs": [
        {
          "name": "stdout",
          "output_type": "stream",
          "text": [
            "Bienvenido al programa de conversión de unidades parsec/años luz\n",
            "11 parsec, is 35.877159999999996 lightyears\n"
          ]
        }
      ],
      "source": [
        "print(\"Bienvenido al programa de conversión de unidades parsec/años luz\")\n",
        "parsec = 11\n",
        "lightyears = 3.26156 * parsec\n",
        "print(str(parsec) + \" parsec, is \" + str(lightyears) + \" lightyears\")"
      ]
    },
    {
      "cell_type": "markdown",
      "metadata": {},
      "source": [
        "## Programa para mostrar la fecha"
      ]
    },
    {
      "cell_type": "code",
      "execution_count": 6,
      "metadata": {},
      "outputs": [
        {
          "data": {
            "application/vnd.jupyter.widget-view+json": {
              "model_id": "44cc4ac5472d4f9eb38a238a25d7aca4",
              "version_major": 2,
              "version_minor": 0
            },
            "text/plain": [
              "ToggleButton(value=False, button_style='warning', description=' Mostrar Fecha ', icon='calendar', tooltip='Eng…"
            ]
          },
          "metadata": {},
          "output_type": "display_data"
        },
        {
          "data": {
            "application/vnd.jupyter.widget-view+json": {
              "model_id": "f81d8e7b8da24363b538412457dfe8e5",
              "version_major": 2,
              "version_minor": 0
            },
            "text/plain": [
              "Output()"
            ]
          },
          "metadata": {},
          "output_type": "display_data"
        }
      ],
      "source": [
        "import ipywidgets as widgets\n",
        "from datetime import date\n",
        "\n",
        "ignition  = widgets.ToggleButton(\n",
        "    value = False,\n",
        "    description = ' Mostrar Fecha ',\n",
        "    button_style = 'warning',\n",
        "    tooltip = 'Engage your Launch',\n",
        "    icon = 'calendar'\n",
        ")\n",
        "output = widgets.Output()\n",
        "display(ignition, output)\n",
        "def on_value_change(change):\n",
        "    with output:\n",
        "        if change['new'] == True:\n",
        "            print(\"Today's date is: \" + str(date.today()))\n",
        "ignition.observe(on_value_change,names = 'value')\n"
      ]
    }
  ],
  "metadata": {
    "interpreter": {
      "hash": "a690198ef677e77675fdb2fcea22654466ee498d68fc58088d63f7f52b37a4c9"
    },
    "kernelspec": {
      "display_name": "Python 3.10.2 64-bit",
      "language": "python",
      "name": "python3"
    },
    "language_info": {
      "codemirror_mode": {
        "name": "ipython",
        "version": 3
      },
      "file_extension": ".py",
      "mimetype": "text/x-python",
      "name": "python",
      "nbconvert_exporter": "python",
      "pygments_lexer": "ipython3",
      "version": "3.10.2"
    },
    "orig_nbformat": 4
  },
  "nbformat": 4,
  "nbformat_minor": 2
}
