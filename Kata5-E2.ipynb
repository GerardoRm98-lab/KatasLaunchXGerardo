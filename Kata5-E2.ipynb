{
 "cells": [
  {
   "cell_type": "markdown",
   "metadata": {},
   "source": [
    "## Distancia del sol para dos planetas"
   ]
  },
  {
   "cell_type": "code",
   "execution_count": 2,
   "metadata": {},
   "outputs": [
    {
     "name": "stdout",
     "output_type": "stream",
     "text": [
      "La distancia en KM es 4\n",
      "La distancia en M es 2.484\n"
     ]
    }
   ],
   "source": [
    "planeta1 = input(\"Ingresa la Distancia del Planeta 1 al sol\")\n",
    "planeta2 = input(\"Ingresa la Distancia del Planeta 2 al sol\")\n",
    "planeta1 = int(planeta1)\n",
    "planeta2 = int(planeta2)\n",
    "KM = abs(planeta1-planeta2)\n",
    "M = KM*0.621\n",
    "print(\"La distancia en KM es \"+str(KM))\n",
    "print(\"La distancia en M es \"+str(M))"
   ]
  }
 ],
 "metadata": {
  "interpreter": {
   "hash": "a690198ef677e77675fdb2fcea22654466ee498d68fc58088d63f7f52b37a4c9"
  },
  "kernelspec": {
   "display_name": "Python 3.10.2 64-bit",
   "language": "python",
   "name": "python3"
  },
  "language_info": {
   "codemirror_mode": {
    "name": "ipython",
    "version": 3
   },
   "file_extension": ".py",
   "mimetype": "text/x-python",
   "name": "python",
   "nbconvert_exporter": "python",
   "pygments_lexer": "ipython3",
   "version": "3.10.2"
  },
  "orig_nbformat": 4
 },
 "nbformat": 4,
 "nbformat_minor": 2
}
