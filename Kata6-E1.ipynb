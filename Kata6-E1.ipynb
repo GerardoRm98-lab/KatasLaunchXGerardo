{
 "cells": [
  {
   "cell_type": "markdown",
   "metadata": {},
   "source": [
    "## Información Planetaria"
   ]
  },
  {
   "cell_type": "code",
   "execution_count": 1,
   "metadata": {},
   "outputs": [
    {
     "name": "stdout",
     "output_type": "stream",
     "text": [
      "['Mercurio', 'Venus', 'Tierra', 'Marte', 'Jupiter', 'Saturno', 'Urano', 'Neptuno']\n",
      "Plutón\n"
     ]
    },
    {
     "ename": "ValueError",
     "evalue": "'marte' is not in list",
     "output_type": "error",
     "traceback": [
      "\u001b[1;31m---------------------------------------------------------------------------\u001b[0m",
      "\u001b[1;31mValueError\u001b[0m                                Traceback (most recent call last)",
      "\u001b[1;32mc:\\Users\\gerar\\Documents\\10 semestre\\launch-X\\P6-Python\\Kata6-E1.ipynb Cell 2'\u001b[0m in \u001b[0;36m<module>\u001b[1;34m\u001b[0m\n\u001b[0;32m      <a href='vscode-notebook-cell:/c%3A/Users/gerar/Documents/10%20semestre/launch-X/P6-Python/Kata6-E1.ipynb#ch0000001?line=3'>4</a>\u001b[0m \u001b[39mprint\u001b[39m(planets[\u001b[39m-\u001b[39m\u001b[39m1\u001b[39m])\n\u001b[0;32m      <a href='vscode-notebook-cell:/c%3A/Users/gerar/Documents/10%20semestre/launch-X/P6-Python/Kata6-E1.ipynb#ch0000001?line=4'>5</a>\u001b[0m resp \u001b[39m=\u001b[39m \u001b[39minput\u001b[39m(\u001b[39m\"\u001b[39m\u001b[39mIngresa el nombre del planeta: \u001b[39m\u001b[39m\"\u001b[39m)\n\u001b[1;32m----> <a href='vscode-notebook-cell:/c%3A/Users/gerar/Documents/10%20semestre/launch-X/P6-Python/Kata6-E1.ipynb#ch0000001?line=5'>6</a>\u001b[0m i \u001b[39m=\u001b[39m planets\u001b[39m.\u001b[39;49mindex(resp)\n\u001b[0;32m      <a href='vscode-notebook-cell:/c%3A/Users/gerar/Documents/10%20semestre/launch-X/P6-Python/Kata6-E1.ipynb#ch0000001?line=6'>7</a>\u001b[0m cerca \u001b[39m=\u001b[39m planets[\u001b[39m0\u001b[39m:i]\n\u001b[0;32m      <a href='vscode-notebook-cell:/c%3A/Users/gerar/Documents/10%20semestre/launch-X/P6-Python/Kata6-E1.ipynb#ch0000001?line=7'>8</a>\u001b[0m lejos \u001b[39m=\u001b[39m planets[i\u001b[39m+\u001b[39m\u001b[39m1\u001b[39m:]\n",
      "\u001b[1;31mValueError\u001b[0m: 'marte' is not in list"
     ]
    }
   ],
   "source": [
    "planets = ['Mercurio', 'Venus', 'Tierra', 'Marte', 'Jupiter', 'Saturno', 'Urano', 'Neptuno']\n",
    "print(planets)\n",
    "planets.append('Plutón')\n",
    "print(planets[-1])\n",
    "resp = input(\"Ingresa el nombre del planeta: \")\n",
    "i = planets.index(resp)\n",
    "cerca = planets[0:i]\n",
    "lejos = planets[i+1:]\n",
    "print(\"Planetas Cercanos\",cerca)\n",
    "print(\"Planetas Lejanos\",lejos)"
   ]
  }
 ],
 "metadata": {
  "interpreter": {
   "hash": "a690198ef677e77675fdb2fcea22654466ee498d68fc58088d63f7f52b37a4c9"
  },
  "kernelspec": {
   "display_name": "Python 3.10.2 64-bit",
   "language": "python",
   "name": "python3"
  },
  "language_info": {
   "codemirror_mode": {
    "name": "ipython",
    "version": 3
   },
   "file_extension": ".py",
   "mimetype": "text/x-python",
   "name": "python",
   "nbconvert_exporter": "python",
   "pygments_lexer": "ipython3",
   "version": "3.10.2"
  },
  "orig_nbformat": 4
 },
 "nbformat": 4,
 "nbformat_minor": 2
}
