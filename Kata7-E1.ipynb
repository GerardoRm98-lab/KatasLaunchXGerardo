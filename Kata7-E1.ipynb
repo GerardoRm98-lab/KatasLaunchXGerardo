{
  "cells": [
    {
      "cell_type": "markdown",
      "metadata": {},
      "source": [
        "## Planetario"
      ]
    },
    {
      "cell_type": "code",
      "execution_count": 14,
      "metadata": {},
      "outputs": [
        {
          "name": "stdout",
          "output_type": "stream",
          "text": [
            "Mercurio\n",
            "Venus\n"
          ]
        }
      ],
      "source": [
        "new_planet = ''\n",
        "planets = []\n",
        "\n",
        "while new_planet.lower() != 'done':\n",
        "    if new_planet:\n",
        "        planets.append(new_planet)\n",
        "    new_planet = input('Ingresa un planeta / Done para terminar')\n",
        "\n",
        "for planet in planets:\n",
        "    print(planet)\n",
        "\n",
        "\n"
      ]
    }
  ],
  "metadata": {
    "interpreter": {
      "hash": "a690198ef677e77675fdb2fcea22654466ee498d68fc58088d63f7f52b37a4c9"
    },
    "kernelspec": {
      "display_name": "Python 3.10.2 64-bit",
      "language": "python",
      "name": "python3"
    },
    "language_info": {
      "codemirror_mode": {
        "name": "ipython",
        "version": 3
      },
      "file_extension": ".py",
      "mimetype": "text/x-python",
      "name": "python",
      "nbconvert_exporter": "python",
      "pygments_lexer": "ipython3",
      "version": "3.10.2"
    },
    "orig_nbformat": 4
  },
  "nbformat": 4,
  "nbformat_minor": 2
}
