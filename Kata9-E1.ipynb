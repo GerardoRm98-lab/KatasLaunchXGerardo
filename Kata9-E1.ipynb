{
  "cells": [
    {
      "cell_type": "markdown",
      "metadata": {},
      "source": [
        "## Funciones Ship"
      ]
    },
    {
      "cell_type": "code",
      "execution_count": 34,
      "metadata": {},
      "outputs": [
        {
          "name": "stdout",
          "output_type": "stream",
          "text": [
            "Hago algo\n",
            "\n",
            "    **********Reporte de Estado************\n",
            "    Misión: LaunchX Kata 09\n",
            "    ***************************************\n",
            "    Destino: Moon\n",
            "    Tiempo total de viaje: 1.2333333333333334hrs\n",
            "    Combustible disponible en promedio: 250000.0L\n",
            "    main tanque --> 300000 Litros restantes\n",
            "external tanque --> 200000 Litros restantes\n",
            "\n"
          ]
        }
      ],
      "source": [
        "def prom(args):\n",
        "    return sum(args)/len(args)\n",
        "def status(destino,*minutes,**tanques):\n",
        "    inf = f\"\"\"\n",
        "    **********Reporte de Estado************\n",
        "    Misión: LaunchX Kata 09\n",
        "    ***************************************\n",
        "    Destino: {destino}\n",
        "    Tiempo total de viaje: {sum(minutes)/60}hrs\n",
        "    Combustible disponible en promedio: {prom(tanques.values())}L\n",
        "    \"\"\"\n",
        "    for tanque,volumen in tanques.items():\n",
        "        inf += f\"{tanque} tanque --> {volumen} Litros restantes\\n\"\n",
        "    return inf\n",
        "print(\"Hago algo\")\n",
        "print(status(\"Moon\", 8, 11, 55, main=300000, external=200000))\n",
        "\n"
      ]
    },
    {
      "cell_type": "code",
      "execution_count": 24,
      "metadata": {},
      "outputs": [
        {
          "name": "stdout",
          "output_type": "stream",
          "text": [
            "\n",
            "    Reporte de Estado por Tanque\n",
            "    ****************************\n",
            "    Tanque 1: 1%\n",
            "    Tanque 2: 2%\n",
            "    Tanque 3: 3%\n",
            "    ____________________________\n",
            "    Promedio: 2.0%\n",
            "    \n"
          ]
        }
      ],
      "source": [
        "def prom(*args):\n",
        "    return (sum(args))/3\n",
        "def informe(lectura1, lectura2, lectura3):\n",
        "    p = prom(lectura1,lectura2,lectura3)\n",
        "    inf = f\"\"\"\n",
        "    Reporte de Estado por Tanque\n",
        "    ****************************\n",
        "    Tanque 1: {lectura1}%\n",
        "    Tanque 2: {lectura2}%\n",
        "    Tanque 3: {lectura3}%\n",
        "    ____________________________\n",
        "    Promedio: {p}%\n",
        "    \"\"\"\n",
        "    return inf\n",
        "print(informe(1,2,3))\n"
      ]
    }
  ],
  "metadata": {
    "interpreter": {
      "hash": "a690198ef677e77675fdb2fcea22654466ee498d68fc58088d63f7f52b37a4c9"
    },
    "kernelspec": {
      "display_name": "Python 3.10.2 64-bit",
      "language": "python",
      "name": "python3"
    },
    "language_info": {
      "codemirror_mode": {
        "name": "ipython",
        "version": 3
      },
      "file_extension": ".py",
      "mimetype": "text/x-python",
      "name": "python",
      "nbconvert_exporter": "python",
      "pygments_lexer": "ipython3",
      "version": "3.10.2"
    },
    "orig_nbformat": 4
  },
  "nbformat": 4,
  "nbformat_minor": 2
}
